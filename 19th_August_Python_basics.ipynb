{
 "cells": [
  {
   "cell_type": "code",
   "execution_count": 1,
   "id": "ed2b2219-bb21-474b-9b1f-3e23207de146",
   "metadata": {},
   "outputs": [],
   "source": [
    "#TOPIC: Python Basics Variable"
   ]
  },
  {
   "cell_type": "code",
   "execution_count": 2,
   "id": "09e5b89a-b392-4bd3-a351-70f53e66ee1f",
   "metadata": {},
   "outputs": [],
   "source": [
    "#1. Declare two variables, `x` and `y`, and assign them integer values. Swap thevalues of these variables without using any temporary variable."
   ]
  },
  {
   "cell_type": "code",
   "execution_count": 3,
   "id": "abf72cc2-66b8-442b-a9bd-d26199193d35",
   "metadata": {},
   "outputs": [
    {
     "name": "stdout",
     "output_type": "stream",
     "text": [
      "After swap x = 20 and y = 10\n"
     ]
    }
   ],
   "source": [
    "x=10\n",
    "y=20\n",
    "x=x+y\n",
    "y=x-y\n",
    "x=x-y\n",
    "print(\"After swap x =\",x ,\"and y =\",y)"
   ]
  },
  {
   "cell_type": "code",
   "execution_count": 4,
   "id": "4de0b416-1414-4386-9e2d-917fc78bcd5b",
   "metadata": {},
   "outputs": [
    {
     "data": {
      "text/plain": [
       "'2. Create a program that calculates the area of a rectangle. Take the length and\\nwidth as inputs from the user and store them in variables. Calculate and\\ndisplay the area.'"
      ]
     },
     "execution_count": 4,
     "metadata": {},
     "output_type": "execute_result"
    }
   ],
   "source": [
    "'''2. Create a program that calculates the area of a rectangle. Take the length and\n",
    "width as inputs from the user and store them in variables. Calculate and\n",
    "display the area.'''"
   ]
  },
  {
   "cell_type": "code",
   "execution_count": 5,
   "id": "66df3d19-b6f6-47e5-a8c5-67ec23ce954d",
   "metadata": {},
   "outputs": [
    {
     "name": "stdin",
     "output_type": "stream",
     "text": [
      "Enter an value:  10\n"
     ]
    }
   ],
   "source": [
    "length=int(input('Enter an value: '))"
   ]
  },
  {
   "cell_type": "code",
   "execution_count": 6,
   "id": "6bf8de31-4812-4fdf-9385-4ad6ba55381b",
   "metadata": {},
   "outputs": [
    {
     "name": "stdin",
     "output_type": "stream",
     "text": [
      "Enter an value:  20\n"
     ]
    }
   ],
   "source": [
    "width=int(input('Enter an value: '))"
   ]
  },
  {
   "cell_type": "code",
   "execution_count": 8,
   "id": "8ce374d5-d8b4-437d-b994-47e77ebdb208",
   "metadata": {},
   "outputs": [
    {
     "name": "stdout",
     "output_type": "stream",
     "text": [
      "The area is 200\n"
     ]
    }
   ],
   "source": [
    "area=length*width\n",
    "print(\"The area is\",area)"
   ]
  },
  {
   "cell_type": "code",
   "execution_count": 9,
   "id": "9c0ea1df-dd59-4f83-8223-07213dff85af",
   "metadata": {},
   "outputs": [
    {
     "data": {
      "text/plain": [
       "'3. Write a Python program that converts temperatures from Celsius to\\nFahrenheit. Take the temperature in Celsius as input, store it in a variable,\\nconvert it to Fahrenheit, and display the result.'"
      ]
     },
     "execution_count": 9,
     "metadata": {},
     "output_type": "execute_result"
    }
   ],
   "source": [
    "'''3. Write a Python program that converts temperatures from Celsius to\n",
    "Fahrenheit. Take the temperature in Celsius as input, store it in a variable,\n",
    "convert it to Fahrenheit, and display the result.'''"
   ]
  },
  {
   "cell_type": "code",
   "execution_count": 10,
   "id": "537d7470-ad81-4c9e-8266-1cb4ded48371",
   "metadata": {},
   "outputs": [
    {
     "name": "stdin",
     "output_type": "stream",
     "text": [
      "Enter an value:  5\n"
     ]
    }
   ],
   "source": [
    "celsius=float(input('Enter an value: '))"
   ]
  },
  {
   "cell_type": "code",
   "execution_count": 14,
   "id": "badc47c8-1e64-4c9c-9a0f-59b7f0bca719",
   "metadata": {},
   "outputs": [
    {
     "name": "stdout",
     "output_type": "stream",
     "text": [
      "Fahrenheit is 41.0\n"
     ]
    }
   ],
   "source": [
    "fahrenheit=celsius* (9.0/5.0) + 32.0\n",
    "print(\"Fahrenheit is\" ,fahrenheit)"
   ]
  },
  {
   "cell_type": "code",
   "execution_count": null,
   "id": "e144408b-13e3-4ee8-98ea-472843e35cc8",
   "metadata": {},
   "outputs": [],
   "source": []
  },
  {
   "cell_type": "code",
   "execution_count": 15,
   "id": "873a2646-5847-4bd7-a37b-1bfa36cff26b",
   "metadata": {},
   "outputs": [],
   "source": [
    "#TOPIC: String Based Questions"
   ]
  },
  {
   "cell_type": "code",
   "execution_count": 16,
   "id": "fc798d5e-9824-487c-a787-86333afed1a8",
   "metadata": {},
   "outputs": [],
   "source": [
    "#1. Write a Python program that takes a string as input and prints the length of the string."
   ]
  },
  {
   "cell_type": "code",
   "execution_count": 18,
   "id": "102fe00a-dd2a-449c-a1f7-73e4ea2b5390",
   "metadata": {},
   "outputs": [
    {
     "name": "stdin",
     "output_type": "stream",
     "text": [
      "Enter the string Datascience\n"
     ]
    }
   ],
   "source": [
    "a=str(input(\"Enter the string\"))"
   ]
  },
  {
   "cell_type": "code",
   "execution_count": 19,
   "id": "834e2e10-46f2-4f18-b776-adb19f583819",
   "metadata": {},
   "outputs": [
    {
     "name": "stdout",
     "output_type": "stream",
     "text": [
      "11\n"
     ]
    }
   ],
   "source": [
    "print(len(a))"
   ]
  },
  {
   "cell_type": "code",
   "execution_count": 20,
   "id": "f3cf5129-2100-4ce5-865a-386fa949ed23",
   "metadata": {},
   "outputs": [],
   "source": [
    "#2. Create a program that takes a sentence from the user and counts the number of vowels (a, e, i, o, u) in the string."
   ]
  },
  {
   "cell_type": "code",
   "execution_count": 6,
   "id": "e1f0ccc4-aad2-480b-b291-79c6d3825093",
   "metadata": {},
   "outputs": [
    {
     "name": "stdin",
     "output_type": "stream",
     "text": [
      "Enter the sentence Tomorrow there is PW Skills Class\n"
     ]
    }
   ],
   "source": [
    "str1=input(\"Enter the sentence\")"
   ]
  },
  {
   "cell_type": "code",
   "execution_count": 7,
   "id": "d8287b82-2c76-4b5e-8a6c-43f253d0074b",
   "metadata": {},
   "outputs": [
    {
     "name": "stdout",
     "output_type": "stream",
     "text": [
      "Total Number of Vowels in this String =  8\n"
     ]
    }
   ],
   "source": [
    "vowels = 0\n",
    " \n",
    "for i in str1:\n",
    "    if(i == 'a' or i == 'e' or i == 'i' or i == 'o' or i == 'u' or i == 'A' or i == 'E' or i == 'I' or i == 'O' or i == 'U'):\n",
    "        vowels = vowels + 1\n",
    " \n",
    "print(\"Total Number of Vowels in this String = \", vowels)"
   ]
  },
  {
   "cell_type": "code",
   "execution_count": 8,
   "id": "251d8dda-76cc-46a0-8275-187015e7c348",
   "metadata": {},
   "outputs": [],
   "source": [
    "#3. Given a string, reverse the order of characters using string slicing and print the reversed string.\n"
   ]
  },
  {
   "cell_type": "code",
   "execution_count": 23,
   "id": "0987ebd7-6a5f-4464-abbb-c51bf7f503b4",
   "metadata": {},
   "outputs": [
    {
     "name": "stdout",
     "output_type": "stream",
     "text": [
      "balsllikS WP\n"
     ]
    }
   ],
   "source": [
    "str2=\"PW Skillslab\"\n",
    "str2=str2[::-1]\n",
    "print(str2)"
   ]
  },
  {
   "cell_type": "code",
   "execution_count": 24,
   "id": "5bf1bd13-08c2-4013-8a64-c336335d386b",
   "metadata": {},
   "outputs": [],
   "source": [
    "#4. Write a program that takes a string as input and checks if it is a palindrome(reads the same forwards and backwards)."
   ]
  },
  {
   "cell_type": "code",
   "execution_count": 33,
   "id": "b96b7043-a23b-4d82-ad8d-3e5a6c934fdf",
   "metadata": {},
   "outputs": [
    {
     "name": "stdin",
     "output_type": "stream",
     "text": [
      "Enter string Radar\n"
     ]
    },
    {
     "name": "stdout",
     "output_type": "stream",
     "text": [
      "The string is not palimdrome\n"
     ]
    }
   ],
   "source": [
    "str3=input(\"Enter string\")\n",
    "if str3==str3[::-1]:\n",
    "    print(\"The string is palimdrome\")\n",
    "else:\n",
    "    print(\"The string is not palimdrome\")\n",
    "    "
   ]
  },
  {
   "cell_type": "code",
   "execution_count": 34,
   "id": "029713d5-85e8-4973-9434-bd5430b88585",
   "metadata": {},
   "outputs": [],
   "source": [
    "#Create a program that takes a string as input and removes all the spaces from it. Print the modified string without spaces."
   ]
  },
  {
   "cell_type": "code",
   "execution_count": 55,
   "id": "8e58c159-dcc3-4f17-9c2a-49731fad1454",
   "metadata": {},
   "outputs": [
    {
     "name": "stdin",
     "output_type": "stream",
     "text": [
      "Enter a string: PW Skills Lab\n"
     ]
    },
    {
     "name": "stdout",
     "output_type": "stream",
     "text": [
      "PWSkillsLab"
     ]
    }
   ],
   "source": [
    "string4 = input(\"Enter a string:\")\n",
    "for i in string4.split():\n",
    "    print(i,end=\"\")"
   ]
  },
  {
   "cell_type": "code",
   "execution_count": null,
   "id": "81942d79-e647-41fa-a869-da2925b45e00",
   "metadata": {},
   "outputs": [],
   "source": []
  }
 ],
 "metadata": {
  "kernelspec": {
   "display_name": "Python 3 (ipykernel)",
   "language": "python",
   "name": "python3"
  },
  "language_info": {
   "codemirror_mode": {
    "name": "ipython",
    "version": 3
   },
   "file_extension": ".py",
   "mimetype": "text/x-python",
   "name": "python",
   "nbconvert_exporter": "python",
   "pygments_lexer": "ipython3",
   "version": "3.10.8"
  }
 },
 "nbformat": 4,
 "nbformat_minor": 5
}
