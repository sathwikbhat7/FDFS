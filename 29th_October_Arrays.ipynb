{
 "cells": [
  {
   "cell_type": "code",
   "execution_count": 26,
   "id": "ef6c5359-bc7f-493d-afb7-398ff1727029",
   "metadata": {},
   "outputs": [
    {
     "name": "stdout",
     "output_type": "stream",
     "text": [
      "True\n"
     ]
    }
   ],
   "source": [
    "#1. Given an array, check if it contains any duplicates or not.\n",
    "#arr = [1, 2, 4, 2, 5, 9]\n",
    "#Output = True\n",
    "\n",
    "def contains_duplicates(arr):\n",
    "    seen = set()\n",
    "    for num in arr:\n",
    "        if num in seen:\n",
    "            return True\n",
    "        seen.add(num)\n",
    "    return False\n",
    "\n",
    "arr = [1, 2, 4, 2, 5, 9]\n",
    "print(contains_duplicates(arr))"
   ]
  },
  {
   "cell_type": "code",
   "execution_count": 22,
   "id": "69bb6638-bff1-4247-b582-4860817f74e1",
   "metadata": {},
   "outputs": [
    {
     "name": "stdout",
     "output_type": "stream",
     "text": [
      "5 6 7 1 2 3 4 "
     ]
    }
   ],
   "source": [
    "#2. Given an array and an integer k, rotate the array to the right by k steps.\n",
    "#arr = [1, 2, 3, 4, 5, 6, 7] k = 3\n",
    "#Output = [5, 6, 7, 1, 2, 3, 4]\n",
    "\n",
    "\n",
    "def RightRotate(arr, n, k):\n",
    "    k = k % n;\n",
    " \n",
    "    for i in range(0, n):\n",
    " \n",
    "        if(i < k):\n",
    "            print(arr[n + i - k], end = \" \");\n",
    " \n",
    "        else:\n",
    "            print(arr[i - k], end = \" \");\n",
    " \n",
    "\n",
    "arr = [ 1, 2, 3, 4, 5, 6, 7 ]\n",
    "n = len(arr)\n",
    "k = 3\n",
    "     \n",
    "RightRotate(arr, n, k)"
   ]
  },
  {
   "cell_type": "code",
   "execution_count": 3,
   "id": "590e29e0-1405-4901-ad4e-2d825a260717",
   "metadata": {},
   "outputs": [
    {
     "name": "stdout",
     "output_type": "stream",
     "text": [
      "[12, 9, 7, 5, 4, 2]\n"
     ]
    }
   ],
   "source": [
    "#3. Reverse the given array in-place, means without using any extra data structure.\n",
    "#arr = [2, 4, 5, 7, 9, 12]\n",
    "#Output = [12, 9, 7, 5, 4, 2]\n",
    "\n",
    "def reverseList(arr):\n",
    "    print( arr[::-1])\n",
    "    \n",
    "arr=[2, 4, 5, 7, 9, 12]\n",
    "reverseList(arr)\n"
   ]
  },
  {
   "cell_type": "code",
   "execution_count": 7,
   "id": "a6d8313a-df39-4e0e-8e87-6fe807d1e2ba",
   "metadata": {},
   "outputs": [
    {
     "name": "stdout",
     "output_type": "stream",
     "text": [
      "20\n"
     ]
    }
   ],
   "source": [
    "#4. Given an array of integers, find the maximum element in an array\n",
    "#arr = [10, 5, 20, 8, 15]\n",
    "#Output = 20\n",
    "def largest(arr, n):\n",
    "    max = arr[0]\n",
    "    for i in range(1, n):\n",
    "        if arr[i] > max:\n",
    "            max = arr[i]\n",
    "            return max\n",
    "\n",
    "arr = [10, 5, 20, 8, 15]\n",
    "n = len(arr)\n",
    "Result= largest(arr, n)\n",
    "print( Result)\n",
    "\n"
   ]
  },
  {
   "cell_type": "code",
   "execution_count": 2,
   "id": "d9846f5d-5e85-4e46-b5e9-c520b8983dae",
   "metadata": {},
   "outputs": [
    {
     "name": "stdout",
     "output_type": "stream",
     "text": [
      "[1, 2, 3, 4, 5]\n"
     ]
    }
   ],
   "source": [
    "#5. Given a sorted array, remove the duplicate element without using any extra data structure.\n",
    "#arr = [1, 1, 2, 2, 2, 3, 3, 4, 4, 4, 5, 5]\n",
    "#Output = [1, 2, 3, 4, 5]\n",
    "\n",
    "def remove_duplicates(arr):\n",
    "    return list(set(arr))\n",
    "\n",
    "arr = [1, 1, 2, 2, 2, 3, 3, 4, 4, 4, 5, 5]\n",
    "arr = remove_duplicates(arr)\n",
    "print(arr) "
   ]
  },
  {
   "cell_type": "code",
   "execution_count": null,
   "id": "16497160-498c-459e-846b-d6a8e26fd0df",
   "metadata": {},
   "outputs": [],
   "source": []
  }
 ],
 "metadata": {
  "kernelspec": {
   "display_name": "Python 3 (ipykernel)",
   "language": "python",
   "name": "python3"
  },
  "language_info": {
   "codemirror_mode": {
    "name": "ipython",
    "version": 3
   },
   "file_extension": ".py",
   "mimetype": "text/x-python",
   "name": "python",
   "nbconvert_exporter": "python",
   "pygments_lexer": "ipython3",
   "version": "3.10.8"
  }
 },
 "nbformat": 4,
 "nbformat_minor": 5
}
