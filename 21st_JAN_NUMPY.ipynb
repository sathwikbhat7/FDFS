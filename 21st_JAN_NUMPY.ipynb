{
 "cells": [
  {
   "cell_type": "code",
   "execution_count": 5,
   "id": "4b258b5a-5cc6-4af7-90e4-bfd7ea710e9c",
   "metadata": {},
   "outputs": [],
   "source": [
    "#1. What is a Python library? Why do we use Python libraries?\n",
    "\n",
    "#Solution:\n",
    "#Python libraries are collections of reusable code modules that you can integrate into your projects to save time and effort. \n",
    "#They are like a toolbox, each providing different tools that can be used to perform various tasks efficiently.\n",
    "#Making use of Python libraries makes it convenient for the programmer as they wouldn't have to write the same code multiple times\n",
    "#for different programs."
   ]
  },
  {
   "cell_type": "code",
   "execution_count": 7,
   "id": "bfc22c9e-6a35-40c6-a2e3-dede4bf2cef0",
   "metadata": {},
   "outputs": [],
   "source": [
    "#2.What is the difference between Numpy array and List?\n",
    "#Soltion: List:\n",
    "\n",
    "#A list is a built-in, linear data structure of Python. It is used to store the data in a sequence manner.\n",
    "#We can perform several operations to list, such as indexing, iterating, and slicing. The list comes with the following features.\n",
    "\n",
    "#>The list elements are enclosed with a square bracket, and each element is separated by a comma (,).\n",
    "#>It is a mutable type which means we can modify the list items after their creation.\n",
    "#>The lists are ordered, which means items are stored in a specific order. We can use indexing to access the list element.\n",
    "#>We can store the items of different data types. We can combine strings, integers, and objects in the same list.\n",
    "\n",
    "#Array\n",
    "\n",
    "#An array is also a linear data structure that stores the data. It is also ordered, mutable, and enclosed in square brackets. \n",
    "#It can store the non-unique items. But there are restrictions to store the different data type values.\n",
    "#To work with the Array in Python, we need to import either an array module or a Numpy."
   ]
  },
  {
   "cell_type": "code",
   "execution_count": 12,
   "id": "62b00b9e-3fc8-4803-896e-2d7e16aeafea",
   "metadata": {},
   "outputs": [],
   "source": [
    "#3. Find the shape, size and dimension of the following array?\n",
    "arr1=[[1, 2, 3, 4],[5, 6, 7, 8],[9, 10, 11, 12]]"
   ]
  },
  {
   "cell_type": "code",
   "execution_count": 14,
   "id": "6c7bcd08-8984-475e-82c1-1673831468d7",
   "metadata": {},
   "outputs": [
    {
     "data": {
      "text/plain": [
       "array([[ 1,  2,  3,  4],\n",
       "       [ 5,  6,  7,  8],\n",
       "       [ 9, 10, 11, 12]])"
      ]
     },
     "execution_count": 14,
     "metadata": {},
     "output_type": "execute_result"
    }
   ],
   "source": [
    "import numpy as np\n",
    "arr1=np.array(arr1)\n",
    "arr1"
   ]
  },
  {
   "cell_type": "code",
   "execution_count": 15,
   "id": "af0023f1-2b37-402b-9009-4378a2ab015f",
   "metadata": {},
   "outputs": [
    {
     "data": {
      "text/plain": [
       "(3, 4)"
      ]
     },
     "execution_count": 15,
     "metadata": {},
     "output_type": "execute_result"
    }
   ],
   "source": [
    "#shape\n",
    "arr1.shape"
   ]
  },
  {
   "cell_type": "code",
   "execution_count": 16,
   "id": "27515367-5a58-40c3-afbf-3b7ac66830b9",
   "metadata": {},
   "outputs": [
    {
     "data": {
      "text/plain": [
       "12"
      ]
     },
     "execution_count": 16,
     "metadata": {},
     "output_type": "execute_result"
    }
   ],
   "source": [
    "#size\n",
    "arr1.size"
   ]
  },
  {
   "cell_type": "code",
   "execution_count": 17,
   "id": "368c33ed-5727-4fc3-95d8-08df36a3dbc5",
   "metadata": {},
   "outputs": [
    {
     "data": {
      "text/plain": [
       "2"
      ]
     },
     "execution_count": 17,
     "metadata": {},
     "output_type": "execute_result"
    }
   ],
   "source": [
    "#dimension\n",
    "arr1.ndim"
   ]
  },
  {
   "cell_type": "code",
   "execution_count": 18,
   "id": "f392060c-0147-4011-9dc2-2b6aac9ce1f8",
   "metadata": {},
   "outputs": [],
   "source": [
    "#4. Write python code to access the first row of the following array?\n",
    "arr=[[1, 2, 3, 4],[5, 6, 7, 8],[9, 10, 11, 12]]"
   ]
  },
  {
   "cell_type": "code",
   "execution_count": 19,
   "id": "cb20a7e3-f55d-4860-bcaa-2aaa0ceb3f1a",
   "metadata": {},
   "outputs": [],
   "source": [
    "arr=np.array(arr)"
   ]
  },
  {
   "cell_type": "code",
   "execution_count": 20,
   "id": "cc248d80-7688-4c33-be69-caef36d69f2e",
   "metadata": {},
   "outputs": [
    {
     "data": {
      "text/plain": [
       "array([[ 1,  2,  3,  4],\n",
       "       [ 5,  6,  7,  8],\n",
       "       [ 9, 10, 11, 12]])"
      ]
     },
     "execution_count": 20,
     "metadata": {},
     "output_type": "execute_result"
    }
   ],
   "source": [
    "arr"
   ]
  },
  {
   "cell_type": "code",
   "execution_count": 21,
   "id": "45f49868-4b29-42bd-879c-4690266d5caa",
   "metadata": {},
   "outputs": [
    {
     "data": {
      "text/plain": [
       "array([1, 2, 3, 4])"
      ]
     },
     "execution_count": 21,
     "metadata": {},
     "output_type": "execute_result"
    }
   ],
   "source": [
    "arr[0]"
   ]
  },
  {
   "cell_type": "code",
   "execution_count": 22,
   "id": "fce93aba-46bd-4a55-aa1f-3d35d4f208f4",
   "metadata": {},
   "outputs": [],
   "source": [
    "#5. How do you access the element at the third row and fourth column from the given numpy array?\n",
    "arr=[[1, 2, 3, 4],[5, 6, 7, 8],[9, 10, 11, 12]]"
   ]
  },
  {
   "cell_type": "code",
   "execution_count": 26,
   "id": "0ab1a948-be00-4b6a-bf58-d7205a71b74e",
   "metadata": {},
   "outputs": [
    {
     "data": {
      "text/plain": [
       "array([[ 1,  2,  3,  4],\n",
       "       [ 5,  6,  7,  8],\n",
       "       [ 9, 10, 11, 12]])"
      ]
     },
     "execution_count": 26,
     "metadata": {},
     "output_type": "execute_result"
    }
   ],
   "source": [
    "arr=np.array(arr)\n",
    "arr"
   ]
  },
  {
   "cell_type": "code",
   "execution_count": 28,
   "id": "a7a48a8b-67c5-4286-8dd2-2cb1e2874e63",
   "metadata": {},
   "outputs": [
    {
     "data": {
      "text/plain": [
       "12"
      ]
     },
     "execution_count": 28,
     "metadata": {},
     "output_type": "execute_result"
    }
   ],
   "source": [
    "arr[2,3]"
   ]
  },
  {
   "cell_type": "code",
   "execution_count": 29,
   "id": "36dd32fb-533f-4f0e-a082-e1b5b80d34b4",
   "metadata": {},
   "outputs": [],
   "source": [
    "#6. Write code to extract all odd-indexed elements from the given numpy array?\n",
    "arr3=[[1, 2, 3, 4],[5, 6, 7, 8],[9, 10, 11, 12]]"
   ]
  },
  {
   "cell_type": "code",
   "execution_count": 30,
   "id": "2530cff7-6288-47c5-896c-e91f0c2b021a",
   "metadata": {},
   "outputs": [
    {
     "data": {
      "text/plain": [
       "array([[ 1,  2,  3,  4],\n",
       "       [ 5,  6,  7,  8],\n",
       "       [ 9, 10, 11, 12]])"
      ]
     },
     "execution_count": 30,
     "metadata": {},
     "output_type": "execute_result"
    }
   ],
   "source": [
    "arr3=np.array(arr3)\n",
    "arr3"
   ]
  },
  {
   "cell_type": "code",
   "execution_count": 103,
   "id": "116ce9c0-c90c-43db-b5da-bab05ca2b6d5",
   "metadata": {},
   "outputs": [
    {
     "data": {
      "text/plain": [
       "array([ 2,  4,  5,  7, 10, 12])"
      ]
     },
     "execution_count": 103,
     "metadata": {},
     "output_type": "execute_result"
    }
   ],
   "source": [
    "arr3[np.sum(np.indices(arr.shape), axis=0) % 2 != 0]"
   ]
  },
  {
   "cell_type": "code",
   "execution_count": null,
   "id": "6f5c3bba-a383-47bb-b485-42a05584661a",
   "metadata": {},
   "outputs": [],
   "source": [
    "#7. How can you generate a random 3x3 matrix with values between 0 and 1?"
   ]
  },
  {
   "cell_type": "code",
   "execution_count": 43,
   "id": "f9dcd2ff-8c3b-4594-a87b-39e3234af078",
   "metadata": {},
   "outputs": [
    {
     "data": {
      "text/plain": [
       "array([[0, 0, 0],\n",
       "       [0, 0, 0],\n",
       "       [0, 0, 0]])"
      ]
     },
     "execution_count": 43,
     "metadata": {},
     "output_type": "execute_result"
    }
   ],
   "source": [
    "arr1 = np.random.randint(0, 1, (3,3))\n",
    "arr1"
   ]
  },
  {
   "cell_type": "code",
   "execution_count": 44,
   "id": "c921ca3b-03ba-4537-b791-2c9ae0a0562c",
   "metadata": {},
   "outputs": [
    {
     "data": {
      "text/plain": [
       "array([[0.62607115, 0.14848446, 0.44894462],\n",
       "       [0.12793854, 0.48176384, 0.95116382]])"
      ]
     },
     "execution_count": 44,
     "metadata": {},
     "output_type": "execute_result"
    }
   ],
   "source": [
    "#8. Describe the difference between np.random.rand and np.random.randn?\n",
    "\n",
    "#The numpy.random.rand() function creates an array of specified shapes fills it with random values and generates random numbers with Numpy.\n",
    "#ex:\n",
    "import random\n",
    "np.random.rand(2, 3)"
   ]
  },
  {
   "cell_type": "code",
   "execution_count": 45,
   "id": "b4f47c53-6df5-467e-b394-a6ae29a2fdd4",
   "metadata": {},
   "outputs": [
    {
     "data": {
      "text/plain": [
       "array([[-0.71433404,  1.48917227, -0.77523029],\n",
       "       [ 0.23865933, -0.93174241,  1.34494624]])"
      ]
     },
     "execution_count": 45,
     "metadata": {},
     "output_type": "execute_result"
    }
   ],
   "source": [
    "#The numpy.random.randn() function creates an array of specified shape and fills it with random values as per standard normal distribution\n",
    "np.random.randn(2, 3)"
   ]
  },
  {
   "cell_type": "code",
   "execution_count": 46,
   "id": "81ee5416-98cd-4a92-a82f-0512e82d6b5b",
   "metadata": {},
   "outputs": [],
   "source": [
    "#9. Write code to increase the dimension of the following array?\n",
    "arr=[[1, 2, 3, 4],[5, 6, 7, 8],[9, 10, 11, 12]]"
   ]
  },
  {
   "cell_type": "code",
   "execution_count": 90,
   "id": "7066d13f-9c72-45bc-82b1-cc6d6a347e11",
   "metadata": {},
   "outputs": [
    {
     "data": {
      "text/plain": [
       "array([[0., 0., 0., 0.],\n",
       "       [0., 0., 0., 0.],\n",
       "       [0., 0., 0., 0.]])"
      ]
     },
     "execution_count": 90,
     "metadata": {},
     "output_type": "execute_result"
    }
   ],
   "source": [
    "arr=np.array(arr)\n",
    "arr"
   ]
  },
  {
   "cell_type": "code",
   "execution_count": 91,
   "id": "f4c1b5c4-ce3f-4aa3-8e1e-20b10c8d309e",
   "metadata": {},
   "outputs": [
    {
     "data": {
      "text/plain": [
       "array([[[0., 0., 0., 0.],\n",
       "        [0., 0., 0., 0.],\n",
       "        [0., 0., 0., 0.]]])"
      ]
     },
     "execution_count": 91,
     "metadata": {},
     "output_type": "execute_result"
    }
   ],
   "source": [
    "#expand_dims >>expand the dimension of array\n",
    "arr1= np.expand_dims(arr, axis = 0)\n",
    "arr1"
   ]
  },
  {
   "cell_type": "code",
   "execution_count": 47,
   "id": "c1e83c35-6882-407c-897a-398611daec32",
   "metadata": {},
   "outputs": [],
   "source": [
    "#10. How to transpose the following array in NumPy?\n",
    "arr1=[[1, 2, 3, 4],[5, 6, 7, 8],[9, 10, 11, 12]]"
   ]
  },
  {
   "cell_type": "code",
   "execution_count": 50,
   "id": "662cce73-52ba-4dd9-9940-969247228de4",
   "metadata": {},
   "outputs": [
    {
     "data": {
      "text/plain": [
       "array([[ 1,  2,  3,  4],\n",
       "       [ 5,  6,  7,  8],\n",
       "       [ 9, 10, 11, 12]])"
      ]
     },
     "execution_count": 50,
     "metadata": {},
     "output_type": "execute_result"
    }
   ],
   "source": [
    "arr1=np.array(arr1)\n",
    "arr1"
   ]
  },
  {
   "cell_type": "code",
   "execution_count": 51,
   "id": "e3e3a3d8-e880-49c1-932c-a843cca3cdf9",
   "metadata": {},
   "outputs": [
    {
     "data": {
      "text/plain": [
       "array([[ 1,  5,  9],\n",
       "       [ 2,  6, 10],\n",
       "       [ 3,  7, 11],\n",
       "       [ 4,  8, 12]])"
      ]
     },
     "execution_count": 51,
     "metadata": {},
     "output_type": "execute_result"
    }
   ],
   "source": [
    "arr1.T"
   ]
  },
  {
   "cell_type": "code",
   "execution_count": 52,
   "id": "75630793-acfc-4056-8b6f-dcc7b8c24e34",
   "metadata": {},
   "outputs": [],
   "source": [
    "#11. Consi^er the following matrix:\n",
    "#Matrix A :[[1, 2, 3, 4], [5, 6, 7, 8],[9, 10, 11, 12]]\n",
    "#Matrix B: [[1, 2, 3, 4] ,[5, 6, 7, 8],[9, 10, 11, 12]]\n",
    "\n",
    "#Perform the following operation using Python1\n",
    "#1.Index wiLe multiplication\n",
    "#2.Matix multiplication\n",
    "#3.Add both the matix\n",
    "#4.Subtact matix B from A \n",
    "#5.Divide Matix B by A"
   ]
  },
  {
   "cell_type": "code",
   "execution_count": 71,
   "id": "bb1b8654-68b3-4a6d-896c-8cf263b0f03c",
   "metadata": {},
   "outputs": [],
   "source": [
    "arrA=[[1, 2, 3, 4], [5, 6, 7, 8],[9, 10, 11, 12]]\n",
    "arrB=[[1, 2, 3, 4] ,[5, 6, 7, 8],[9, 10, 11, 12]]\n",
    "arrA=np.array(arrA)\n",
    "arrB=np.array(arrB)"
   ]
  },
  {
   "cell_type": "code",
   "execution_count": 72,
   "id": "8efeb95b-18f0-4f96-b936-5d2763923138",
   "metadata": {},
   "outputs": [
    {
     "data": {
      "text/plain": [
       "array([[ 1,  2,  3,  4],\n",
       "       [ 5,  6,  7,  8],\n",
       "       [ 9, 10, 11, 12]])"
      ]
     },
     "execution_count": 72,
     "metadata": {},
     "output_type": "execute_result"
    }
   ],
   "source": [
    "arrA"
   ]
  },
  {
   "cell_type": "code",
   "execution_count": 73,
   "id": "5284af4c-9ad9-4d9b-a115-0d2ae68365fe",
   "metadata": {},
   "outputs": [
    {
     "data": {
      "text/plain": [
       "array([[ 1,  2,  3,  4],\n",
       "       [ 5,  6,  7,  8],\n",
       "       [ 9, 10, 11, 12]])"
      ]
     },
     "execution_count": 73,
     "metadata": {},
     "output_type": "execute_result"
    }
   ],
   "source": [
    "arrB"
   ]
  },
  {
   "cell_type": "code",
   "execution_count": 92,
   "id": "1831332c-1025-4bc5-8fd2-d1e92892e1dc",
   "metadata": {},
   "outputs": [
    {
     "data": {
      "text/plain": [
       "array([[  1,   4,   9,  16],\n",
       "       [ 25,  36,  49,  64],\n",
       "       [ 81, 100, 121, 144]])"
      ]
     },
     "execution_count": 92,
     "metadata": {},
     "output_type": "execute_result"
    }
   ],
   "source": [
    "#Index wiLe multiplication\n",
    "index=arrA*arrB\n",
    "index"
   ]
  },
  {
   "cell_type": "code",
   "execution_count": 75,
   "id": "f61544ca-5eab-4719-a18b-749a2a949db2",
   "metadata": {},
   "outputs": [
    {
     "ename": "ValueError",
     "evalue": "matmul: Input operand 1 has a mismatch in its core dimension 0, with gufunc signature (n?,k),(k,m?)->(n?,m?) (size 3 is different from 4)",
     "output_type": "error",
     "traceback": [
      "\u001b[0;31m---------------------------------------------------------------------------\u001b[0m",
      "\u001b[0;31mValueError\u001b[0m                                Traceback (most recent call last)",
      "Cell \u001b[0;32mIn[75], line 1\u001b[0m\n\u001b[0;32m----> 1\u001b[0m multiplication\u001b[38;5;241m=\u001b[39m\u001b[43marrA\u001b[49m\u001b[43m \u001b[49m\u001b[38;5;241;43m@\u001b[39;49m\u001b[43m \u001b[49m\u001b[43marrB\u001b[49m\n\u001b[1;32m      2\u001b[0m multiplication\n",
      "\u001b[0;31mValueError\u001b[0m: matmul: Input operand 1 has a mismatch in its core dimension 0, with gufunc signature (n?,k),(k,m?)->(n?,m?) (size 3 is different from 4)"
     ]
    }
   ],
   "source": [
    "# Multiplication matrix not possible because in m*n and p*q, n and q is not equal\n",
    "multiplication=arrA @ arrB\n",
    "multiplication"
   ]
  },
  {
   "cell_type": "code",
   "execution_count": 93,
   "id": "a5b6337f-8896-4a49-a5f0-75edbddc4331",
   "metadata": {},
   "outputs": [
    {
     "data": {
      "text/plain": [
       "array([[ 2,  4,  6,  8],\n",
       "       [10, 12, 14, 16],\n",
       "       [18, 20, 22, 24]])"
      ]
     },
     "execution_count": 93,
     "metadata": {},
     "output_type": "execute_result"
    }
   ],
   "source": [
    "#Add both the matics\n",
    "Add=arrA+arrB\n",
    "Add"
   ]
  },
  {
   "cell_type": "code",
   "execution_count": 94,
   "id": "394f483a-3df5-4dc3-b40a-bf5174249a8c",
   "metadata": {},
   "outputs": [
    {
     "data": {
      "text/plain": [
       "array([[0, 0, 0, 0],\n",
       "       [0, 0, 0, 0],\n",
       "       [0, 0, 0, 0]])"
      ]
     },
     "execution_count": 94,
     "metadata": {},
     "output_type": "execute_result"
    }
   ],
   "source": [
    "#Subtact matix B from A\n",
    "Sub=arrA-arrB\n",
    "Sub"
   ]
  },
  {
   "cell_type": "code",
   "execution_count": 95,
   "id": "5f3b54ec-ba02-4504-8774-bfa8d4c4c884",
   "metadata": {},
   "outputs": [
    {
     "data": {
      "text/plain": [
       "array([[1., 1., 1., 1.],\n",
       "       [1., 1., 1., 1.],\n",
       "       [1., 1., 1., 1.]])"
      ]
     },
     "execution_count": 95,
     "metadata": {},
     "output_type": "execute_result"
    }
   ],
   "source": [
    "#Diide Matix B by A\n",
    "Div=arrA/arrB\n",
    "Div"
   ]
  },
  {
   "cell_type": "code",
   "execution_count": 82,
   "id": "63386f8f-a8ba-406a-894d-817c597903e7",
   "metadata": {},
   "outputs": [],
   "source": [
    "#12. Which function in Numpy can be used to swap the byte order of an array?\n",
    "#Sol:\n",
    "# byteswap() method swaps the bytes of the array elements. \n",
    "# It toggles between low-endian and big-endian data representation by returning a byteswapped array, optionally swapped in-place."
   ]
  },
  {
   "cell_type": "code",
   "execution_count": 83,
   "id": "5883e170-ddb8-44bc-b92c-f410cd9f3b99",
   "metadata": {},
   "outputs": [],
   "source": [
    "#13.What is the significance of the np.linalg.inv function?\n",
    "#Sol:\n",
    "# NumPy linalg. inv() function in Python is used to compute the (multiplicative) inverse of a matrix."
   ]
  },
  {
   "cell_type": "code",
   "execution_count": 84,
   "id": "91d91df6-3e2a-4fe7-93a8-b00009836f6d",
   "metadata": {},
   "outputs": [
    {
     "data": {
      "text/plain": [
       "array([[3, 4, 2, 2],\n",
       "       [1, 2, 4, 3],\n",
       "       [1, 1, 2, 1]])"
      ]
     },
     "execution_count": 84,
     "metadata": {},
     "output_type": "execute_result"
    }
   ],
   "source": [
    "#14.What does the np.reshape function do, and how is it used?\n",
    "#SOl:\n",
    "#The numpy. reshape() function allows us to reshape an array in Python. Reshaping basically means, changing the shape of an array.\n",
    "\n",
    "#example:\n",
    "arr = np.random.randint(1, 5, size = (3, 4))\n",
    "arr"
   ]
  },
  {
   "cell_type": "code",
   "execution_count": 85,
   "id": "542dbff9-020e-4758-931e-9d458fa93feb",
   "metadata": {},
   "outputs": [
    {
     "data": {
      "text/plain": [
       "12"
      ]
     },
     "execution_count": 85,
     "metadata": {},
     "output_type": "execute_result"
    }
   ],
   "source": [
    "arr.size"
   ]
  },
  {
   "cell_type": "code",
   "execution_count": 86,
   "id": "ae7774d4-3395-43a5-9694-75e4276742af",
   "metadata": {},
   "outputs": [
    {
     "data": {
      "text/plain": [
       "(3, 4)"
      ]
     },
     "execution_count": 86,
     "metadata": {},
     "output_type": "execute_result"
    }
   ],
   "source": [
    "arr.shape"
   ]
  },
  {
   "cell_type": "code",
   "execution_count": 87,
   "id": "1018bf7d-f759-4654-99d4-e2db36e7c6ab",
   "metadata": {},
   "outputs": [
    {
     "data": {
      "text/plain": [
       "array([[3, 4, 2, 2, 1, 2],\n",
       "       [4, 3, 1, 1, 2, 1]])"
      ]
     },
     "execution_count": 87,
     "metadata": {},
     "output_type": "execute_result"
    }
   ],
   "source": [
    "arr.reshape(2, 6)#array size can not change, multiples of array size"
   ]
  },
  {
   "cell_type": "code",
   "execution_count": 88,
   "id": "d5c094cf-e3eb-42ac-9dfa-27963e675190",
   "metadata": {},
   "outputs": [
    {
     "data": {
      "text/plain": [
       "array([[0., 0., 0., 0.],\n",
       "       [0., 0., 0., 0.],\n",
       "       [0., 0., 0., 0.]])"
      ]
     },
     "execution_count": 88,
     "metadata": {},
     "output_type": "execute_result"
    }
   ],
   "source": [
    "#15. What is broadcasting in Numpy?\n",
    "#Sol:\n",
    "# the ability of NumPy to treat arrays of different shapes during arithmetic operations.\n",
    "\n",
    "arr = np.zeros((3, 4))\n",
    "arr"
   ]
  },
  {
   "cell_type": "code",
   "execution_count": 89,
   "id": "b22bcfd9-bbb5-458a-a6e5-ec34ebb3edd6",
   "metadata": {},
   "outputs": [
    {
     "data": {
      "text/plain": [
       "array([[5., 5., 5., 5.],\n",
       "       [5., 5., 5., 5.],\n",
       "       [5., 5., 5., 5.]])"
      ]
     },
     "execution_count": 89,
     "metadata": {},
     "output_type": "execute_result"
    }
   ],
   "source": [
    "arr+5"
   ]
  },
  {
   "cell_type": "code",
   "execution_count": null,
   "id": "404d5ca0-bb7b-425d-afbd-bc8e0492809b",
   "metadata": {},
   "outputs": [],
   "source": []
  }
 ],
 "metadata": {
  "kernelspec": {
   "display_name": "Python 3 (ipykernel)",
   "language": "python",
   "name": "python3"
  },
  "language_info": {
   "codemirror_mode": {
    "name": "ipython",
    "version": 3
   },
   "file_extension": ".py",
   "mimetype": "text/x-python",
   "name": "python",
   "nbconvert_exporter": "python",
   "pygments_lexer": "ipython3",
   "version": "3.10.8"
  }
 },
 "nbformat": 4,
 "nbformat_minor": 5
}
